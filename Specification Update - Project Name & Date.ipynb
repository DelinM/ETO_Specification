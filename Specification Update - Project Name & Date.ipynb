{
 "cells": [
  {
   "cell_type": "markdown",
   "id": "8c49417a",
   "metadata": {},
   "source": [
    "# Specification Update - Project Name & Date"
   ]
  },
  {
   "cell_type": "markdown",
   "id": "4a8ea631",
   "metadata": {},
   "source": [
    "## Step 0 : Script Preparation (press Shift + Enter)"
   ]
  },
  {
   "cell_type": "code",
   "execution_count": 21,
   "id": "7a1aa25b",
   "metadata": {},
   "outputs": [],
   "source": [
    "import UserTools"
   ]
  },
  {
   "cell_type": "markdown",
   "id": "ecfc6c47",
   "metadata": {},
   "source": [
    "## Step 1 : Check List"
   ]
  },
  {
   "cell_type": "markdown",
   "id": "d88f7bac",
   "metadata": {},
   "source": [
    "* **All Word documents to be modified **MUST** be closed.**\n",
    "* **Only word documents with **.docx** extension will be modified.**\n",
    "* It is okay if your specification folder have files with various file extensions."
   ]
  },
  {
   "cell_type": "markdown",
   "id": "b48dce57",
   "metadata": {},
   "source": [
    "## Step 2 : Provide Inputs"
   ]
  },
  {
   "cell_type": "markdown",
   "id": "9dfce73d",
   "metadata": {},
   "source": [
    "### 2.1 File Path\n",
    "Provide a path to Specification's folder (root folder of all Spec!)\n",
    "**example**\n",
    "* **Mac User:** \"/Users/delinmu/Projects/ElevatedTankProject/AllSpecification\"\n",
    "* **Windows User:** \"r'C:\\Users\\delinmu\\Projects\\ElevatedTankProject\\AllSpecification'\""
   ]
  },
  {
   "cell_type": "code",
   "execution_count": 16,
   "id": "de0e682c",
   "metadata": {},
   "outputs": [],
   "source": [
    "spec_path = \"/Users/delinmu/Documents/GitHub/ETO_Specification/Spec\""
   ]
  },
  {
   "cell_type": "markdown",
   "id": "d03d4eb3",
   "metadata": {},
   "source": [
    "### 2.2 Contract Number\n",
    "Provide Contract Number/Code"
   ]
  },
  {
   "cell_type": "code",
   "execution_count": 17,
   "id": "39aef028",
   "metadata": {},
   "outputs": [],
   "source": [
    "contractNo = \"SP-1254-Elevated Tank\""
   ]
  },
  {
   "cell_type": "markdown",
   "id": "d13e4ca4",
   "metadata": {},
   "source": [
    "### 2.3 Date/Time"
   ]
  },
  {
   "cell_type": "code",
   "execution_count": 18,
   "id": "29bc52e2",
   "metadata": {},
   "outputs": [],
   "source": [
    "date = \"December, 2022\""
   ]
  },
  {
   "cell_type": "markdown",
   "id": "68cfa2d2",
   "metadata": {},
   "source": [
    "## Step 3 : Run Program"
   ]
  },
  {
   "cell_type": "code",
   "execution_count": 19,
   "id": "7f25ef8e",
   "metadata": {},
   "outputs": [],
   "source": [
    "UserTools.Update_Date_ContractNumber(spec_path, contractNo, date)"
   ]
  },
  {
   "cell_type": "code",
   "execution_count": 20,
   "id": "4bbef7c6",
   "metadata": {},
   "outputs": [
    {
     "name": "stdout",
     "output_type": "stream",
     "text": [
      "completed\n"
     ]
    }
   ],
   "source": [
    "print(\"completed\")"
   ]
  },
  {
   "cell_type": "markdown",
   "id": "74c25d5b",
   "metadata": {},
   "source": [
    "## Step 4 : Double Checking Following Files\n",
    "Due to original York Specification formating issues, some formatting of the files needs more attention:\n",
    "\n",
    "**Div 1**\n",
    "1. **01250 Substitutions**: manual check: if even page has date!\n",
    "2. **01550 Traffic Control**: manual check: f even page has good format\n",
    "3. **01820D Training Evaluation Form**: manual check, formatting header\n",
    "\n",
    "**Div 2**\n",
    "1. **02389 Preservation of Water Courses**: manual check even page\n",
    "2. **02555 Cathodic Protection**: manual check, only first page need to revise due to formating issue\n",
    "3. **02725 Hot Mix Asphalt**: manual check, only first page need to revise due to formating issue (no odd even page)\n",
    "\n",
    "**Div 4**\n",
    "1. **04220 Concrete Masonry Units** : manual check, only first page need to revise due to formating issue (no odd even page)\n",
    "\n",
    "**Div 7**\n",
    "1. **07160 Capillary Waterproofing**: manual check, only first page need to revise due to formating issue (no odd even page)\n",
    "\n",
    "\n",
    "**Div 9**\n",
    "1. **09900 Painting And Protective Coatings**: manual check, only first page need to revise due to formating issue (no odd even page)\n",
    "\n",
    "**Div 13**\n",
    "1. **13110 Ultrasonic Level Transmitter**: manual check, only first page need to revise due to formating issue (no odd even page)\n",
    "2. **13195 Chlorine Residual Analyzer**: manual check, only first page need to revise due to formating issue (no odd even page)\n",
    "\n",
    "**Div 14**\n",
    "1. **14620-01 Hoist Monorail Data Sheet Hoist Monorail and Lifting Davit System**: manual check, second page need to revise due to formating issue (no odd even page)\n",
    "1. **14630-01 Crane Data Sheet 96 Overhead Traveling Cranes** manual check, second page need to revise due to formating issue (no odd even page)\n",
    "\n",
    "**Div 16**\n",
    "1. **16051 Installation of Cables in Trenches and Ducts**: manual check, general formatting\n",
    "2. **16132 Outlet Boxes Conduit Boxes and Fittings**: manual check, general formatting\n",
    "3. **16412 Molded Case Circuit Breakers**: manual check, general formating\n"
   ]
  },
  {
   "cell_type": "code",
   "execution_count": null,
   "id": "a5cb637f",
   "metadata": {},
   "outputs": [],
   "source": []
  }
 ],
 "metadata": {
  "kernelspec": {
   "display_name": "Python 3 (ipykernel)",
   "language": "python",
   "name": "python3"
  },
  "language_info": {
   "codemirror_mode": {
    "name": "ipython",
    "version": 3
   },
   "file_extension": ".py",
   "mimetype": "text/x-python",
   "name": "python",
   "nbconvert_exporter": "python",
   "pygments_lexer": "ipython3",
   "version": "3.9.7"
  }
 },
 "nbformat": 4,
 "nbformat_minor": 5
}
