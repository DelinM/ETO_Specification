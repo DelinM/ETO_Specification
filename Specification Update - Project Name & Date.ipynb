{
 "cells": [
  {
   "cell_type": "markdown",
   "id": "8c49417a",
   "metadata": {},
   "source": [
    "# Specification Update - Project Name & Date"
   ]
  },
  {
   "cell_type": "markdown",
   "id": "4a8ea631",
   "metadata": {},
   "source": [
    "## Step 0 : Script Preparation (press Shift + Enter)"
   ]
  },
  {
   "cell_type": "code",
   "execution_count": 8,
   "id": "7a1aa25b",
   "metadata": {},
   "outputs": [],
   "source": [
    "import UpdateSpec"
   ]
  },
  {
   "cell_type": "markdown",
   "id": "ecfc6c47",
   "metadata": {},
   "source": [
    "## Step 1 : Check List"
   ]
  },
  {
   "cell_type": "markdown",
   "id": "d88f7bac",
   "metadata": {},
   "source": [
    "1. All Word documents to be modified **MUST** be closed.\n",
    "2. Only word documents with **.docx** extension will be modified"
   ]
  },
  {
   "cell_type": "markdown",
   "id": "b48dce57",
   "metadata": {},
   "source": [
    "## Step 2 : Provide Inputs"
   ]
  },
  {
   "cell_type": "code",
   "execution_count": 12,
   "id": "9a7d068f",
   "metadata": {},
   "outputs": [
    {
     "ename": "SyntaxError",
     "evalue": "invalid syntax (1575147670.py, line 2)",
     "output_type": "error",
     "traceback": [
      "\u001b[0;36m  File \u001b[0;32m\"/var/folders/q6/qwt53f_919g5hmzw0039h9100000gn/T/ipykernel_10101/1575147670.py\"\u001b[0;36m, line \u001b[0;32m2\u001b[0m\n\u001b[0;31m    provide a path to the master\u001b[0m\n\u001b[0m            ^\u001b[0m\n\u001b[0;31mSyntaxError\u001b[0m\u001b[0;31m:\u001b[0m invalid syntax\n"
     ]
    }
   ],
   "source": [
    "### File Path\n",
    "provide a path to the master "
   ]
  },
  {
   "cell_type": "code",
   "execution_count": 10,
   "id": "39aef028",
   "metadata": {},
   "outputs": [],
   "source": [
    "spec_path = \"/Users/delinmu/Documents/GitHub/ETO_Specification/Spec\"\n",
    "contractNo = \"SSTR4559\"\n",
    "date = \"Oct., 2022\""
   ]
  },
  {
   "cell_type": "code",
   "execution_count": 11,
   "id": "7f25ef8e",
   "metadata": {},
   "outputs": [
    {
     "name": "stdout",
     "output_type": "stream",
     "text": [
      "/Users/delinmu/Documents/GitHub/ETO_Specification/Spec/Division 16 - Electrical/\n",
      "/Users/delinmu/Documents/GitHub/ETO_Specification/Spec/Division 03 - Concrete/\n",
      "/Users/delinmu/Documents/GitHub/ETO_Specification/Spec/Division 11 - Equipment/\n",
      "/Users/delinmu/Documents/GitHub/ETO_Specification/Spec/Division 14 - Conveying Systems/\n",
      "/Users/delinmu/Documents/GitHub/ETO_Specification/Spec/Division 02 - Site Works/\n",
      "/Users/delinmu/Documents/GitHub/ETO_Specification/Spec/Division 06 - Wood and Plastics/\n",
      "/Users/delinmu/Documents/GitHub/ETO_Specification/Spec/Division 07 - Thermal and Moisture Protection/\n",
      "/Users/delinmu/Documents/GitHub/ETO_Specification/Spec/Division 15 - Mechanical/\n",
      "/Users/delinmu/Documents/GitHub/ETO_Specification/Spec/Division 13 - SCADA and Instrumentation/\n",
      "/Users/delinmu/Documents/GitHub/ETO_Specification/Spec/Division 01 - General Requirements/\n",
      "/Users/delinmu/Documents/GitHub/ETO_Specification/Spec/Division 10 - Specialties/\n",
      "/Users/delinmu/Documents/GitHub/ETO_Specification/Spec/Division 05 - Metals/\n",
      "/Users/delinmu/Documents/GitHub/ETO_Specification/Spec/Division 09 - Finishes/\n",
      "/Users/delinmu/Documents/GitHub/ETO_Specification/Spec/Division 12 - Furnishings/\n",
      "/Users/delinmu/Documents/GitHub/ETO_Specification/Spec/Division 08 - Doors and Windows/\n",
      "/Users/delinmu/Documents/GitHub/ETO_Specification/Spec/Division 04 - Masonry/\n"
     ]
    }
   ],
   "source": [
    "UpdateSpec.updateSpec(spec_path, contractNo, date)"
   ]
  },
  {
   "cell_type": "code",
   "execution_count": 12,
   "id": "4bbef7c6",
   "metadata": {},
   "outputs": [
    {
     "name": "stdout",
     "output_type": "stream",
     "text": [
      "completed\n"
     ]
    }
   ],
   "source": [
    "print(\"completed\")"
   ]
  },
  {
   "cell_type": "code",
   "execution_count": null,
   "id": "71ec0221",
   "metadata": {},
   "outputs": [],
   "source": []
  }
 ],
 "metadata": {
  "kernelspec": {
   "display_name": "Python 3 (ipykernel)",
   "language": "python",
   "name": "python3"
  },
  "language_info": {
   "codemirror_mode": {
    "name": "ipython",
    "version": 3
   },
   "file_extension": ".py",
   "mimetype": "text/x-python",
   "name": "python",
   "nbconvert_exporter": "python",
   "pygments_lexer": "ipython3",
   "version": "3.9.7"
  }
 },
 "nbformat": 4,
 "nbformat_minor": 5
}
