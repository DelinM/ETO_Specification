{
 "cells": [
  {
   "cell_type": "markdown",
   "id": "821efc98",
   "metadata": {},
   "source": [
    "# Specification Update - Spec Summary Sheet"
   ]
  },
  {
   "cell_type": "markdown",
   "id": "cbb24922",
   "metadata": {},
   "source": [
    "## Step 1 : Check List (press Shift + Enter - to Continue)"
   ]
  },
  {
   "cell_type": "markdown",
   "id": "74c4d1ec",
   "metadata": {},
   "source": [
    "* **All Word documents to be modified **MUST** be closed.**\n",
    "* **Only word documents with **.docx** extension will be modified.**\n",
    "* It is okay if your specification folder have files with various file extensions."
   ]
  },
  {
   "cell_type": "markdown",
   "id": "1d833022",
   "metadata": {},
   "source": [
    "## Step 2 : Provide Inputs - File Path & Result Path"
   ]
  },
  {
   "cell_type": "markdown",
   "id": "aaebebe2",
   "metadata": {},
   "source": [
    "### 2.1 File Path - to Spec Root Folder\n",
    "**example**\n",
    "* **Mac User:** \"/Users/delinmu/Projects/ElevatedTankProject/AllSpecification\"\n",
    "* **Windows User:** \"r'C:\\Users\\delinmu\\Projects\\ElevatedTankProject\\AllSpecification'\""
   ]
  },
  {
   "cell_type": "code",
   "execution_count": null,
   "id": "d59b63a6",
   "metadata": {},
   "outputs": [],
   "source": [
    "path = \"/Users/delinmu/Documents/GitHub/ETO_Specification/Spec\""
   ]
  },
  {
   "cell_type": "markdown",
   "id": "6e456275",
   "metadata": {},
   "source": [
    "### 2.2 Summary Sheet Path - to Save Result\n",
    "**example**\n",
    "* **Mac User:** \"/Users/delinmu/Projects/ElevatedTankProject/AllSpecification\"\n",
    "* **Windows User:** \"r'C:\\Users\\delinmu\\Projects\\ElevatedTankProject\\AllSpecification'\""
   ]
  },
  {
   "cell_type": "code",
   "execution_count": null,
   "id": "365f694a",
   "metadata": {},
   "outputs": [],
   "source": [
    "result_path = \"/Users/delinmu/Documents/GitHub/ETO_Specification/Spec\""
   ]
  },
  {
   "cell_type": "markdown",
   "id": "22557fc7",
   "metadata": {},
   "source": [
    "## Step 3 : Run Program"
   ]
  },
  {
   "cell_type": "code",
   "execution_count": null,
   "id": "53bee38f",
   "metadata": {},
   "outputs": [],
   "source": [
    "import src.UserTools as UserTools\n",
    "UserTools.get_summarySheet(path, result_path)\n",
    "print(\"completed\")"
   ]
  },
  {
   "cell_type": "markdown",
   "source": [
    "## Step 4 : Check Excel\n",
    "press \"F2 + Enter\" to formate the \"reference_Spec\" column."
   ],
   "metadata": {
    "collapsed": false
   }
  }
 ],
 "metadata": {
  "kernelspec": {
   "display_name": "Python 3 (ipykernel)",
   "language": "python",
   "name": "python3"
  },
  "language_info": {
   "codemirror_mode": {
    "name": "ipython",
    "version": 3
   },
   "file_extension": ".py",
   "mimetype": "text/x-python",
   "name": "python",
   "nbconvert_exporter": "python",
   "pygments_lexer": "ipython3",
   "version": "3.9.7"
  }
 },
 "nbformat": 4,
 "nbformat_minor": 5
}
